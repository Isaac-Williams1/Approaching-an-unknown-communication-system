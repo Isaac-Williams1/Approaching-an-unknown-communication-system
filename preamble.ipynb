{
 "cells": [
  {
   "cell_type": "code",
   "execution_count": null,
   "id": "2edeb031",
   "metadata": {},
   "outputs": [],
   "source": [
    "import copy\n",
    "import collections as coll\n",
    "import itertools as it\n",
    "import functools as ft\n",
    "import operator as op\n",
    "import os\n",
    "import re\n",
    "import pickle as pkl"
   ]
  },
  {
   "cell_type": "code",
   "execution_count": null,
   "id": "9374c38f",
   "metadata": {},
   "outputs": [],
   "source": [
    "import numpy as np\n",
    "import pandas as pd\n",
    "from scipy import signal as sp\n",
    "from scipy import stats as ss"
   ]
  },
  {
   "cell_type": "code",
   "execution_count": null,
   "id": "c4876233",
   "metadata": {},
   "outputs": [],
   "source": [
    "import numpy_indexed as npi"
   ]
  },
  {
   "cell_type": "code",
   "execution_count": null,
   "id": "abf09504",
   "metadata": {},
   "outputs": [],
   "source": [
    "import matplotlib.pyplot as plt\n",
    "import seaborn as sns"
   ]
  },
  {
   "cell_type": "code",
   "execution_count": null,
   "id": "1220abe1",
   "metadata": {},
   "outputs": [],
   "source": [
    "preamble = r'\\usepackage{amsmath}  \\makeatletter \\let\\save@mathaccent\\mathaccent \\newcommand*\\if@single[3]{   \\setbox0\\hbox{${\\mathaccent\"0362{#1}}^H$}   \\setbox2\\hbox{${\\mathaccent\"0362{\\kern0pt#1}}^H$}   \\ifdim\\ht0=\\ht2 #3\\else #2\\fi   } \\newcommand*\\rel@kern[1]{\\kern#1\\dimexpr\\macc@kerna} \\newcommand*\\widebar[1]{\\@ifnextchar^{{\\wide@bar{#1}{0}}}{\\wide@bar{#1}{1}}} \\newcommand*\\wide@bar[2]{\\if@single{#1}{\\wide@bar@{#1}{#2}{1}}{\\wide@bar@{#1}{#2}{2}}} \\newcommand*\\wide@bar@[3]{   \\begingroup   \\def\\mathaccent##1##2{     \\let\\mathaccent\\save@mathaccent     \\if#32 \\let\\macc@nucleus\\first@char \\fi     \\setbox\\z@\\hbox{$\\macc@style{\\macc@nucleus}_{}$}     \\setbox\\tw@\\hbox{$\\macc@style{\\macc@nucleus}{}_{}$}     \\dimen@\\wd\\tw@     \\advance\\dimen@-\\wd\\z@     \\divide\\dimen@ 3     \\@tempdima\\wd\\tw@     \\advance\\@tempdima-\\scriptspace     \\divide\\@tempdima 10     \\advance\\dimen@-\\@tempdima     \\ifdim\\dimen@>\\z@ \\dimen@0pt\\fi     \\rel@kern{0.6}\\kern-\\dimen@     \\if#31       \\overline{\\rel@kern{-0.6}\\kern\\dimen@\\macc@nucleus\\rel@kern{0.4}\\kern\\dimen@}       \\advance\\dimen@0.4\\dimexpr\\macc@kerna       \\let\\final@kern#2       \\ifdim\\dimen@<\\z@ \\let\\final@kern1\\fi       \\if\\final@kern1 \\kern-\\dimen@\\fi     \\else       \\overline{\\rel@kern{-0.6}\\kern\\dimen@#1}     \\fi   }   \\macc@depth\\@ne   \\let\\math@bgroup\\@empty \\let\\math@egroup\\macc@set@skewchar   \\mathsurround\\z@ \\frozen@everymath{\\mathgroup\\macc@group\\relax}   \\macc@set@skewchar\\relax   \\let\\mathaccentV\\macc@nested@a   \\if#31     \\macc@nested@a\\relax111{#1}   \\else     \\def\\gobble@till@marker##1\\endmarker{}     \\futurelet\\first@char\\gobble@till@marker#1\\endmarker     \\ifcat\\noexpand\\first@char A\\else       \\def\\first@char{}     \\fi     \\macc@nested@a\\relax111{\\first@char}   \\fi   \\endgroup } \\makeatother'\n",
    "\n",
    "plt.rc(\"text\", usetex=True)\n",
    "plt.rc('text.latex', preamble=preamble)"
   ]
  },
  {
   "cell_type": "code",
   "execution_count": null,
   "id": "5d762c88",
   "metadata": {},
   "outputs": [],
   "source": [
    "plt.rcParams['figure.dpi'] = 300\n",
    "plt.rcParams['font.size'] = 16\n",
    "plt.rcParams['figure.figsize'] = [6, 4]\n"
   ]
  }
 ],
 "metadata": {
  "hide_input": false,
  "kernelspec": {
   "display_name": "Python 3 (ipykernel)",
   "language": "python",
   "name": "python3"
  },
  "language_info": {
   "codemirror_mode": {
    "name": "ipython",
    "version": 3
   },
   "file_extension": ".py",
   "mimetype": "text/x-python",
   "name": "python",
   "nbconvert_exporter": "python",
   "pygments_lexer": "ipython3",
   "version": "3.10.6"
  },
  "toc": {
   "base_numbering": 1,
   "nav_menu": {},
   "number_sections": true,
   "sideBar": true,
   "skip_h1_title": false,
   "title_cell": "Table of Contents",
   "title_sidebar": "Contents",
   "toc_cell": false,
   "toc_position": {},
   "toc_section_display": true,
   "toc_window_display": false
  },
  "varInspector": {
   "cols": {
    "lenName": 16,
    "lenType": 16,
    "lenVar": 40
   },
   "kernels_config": {
    "python": {
     "delete_cmd_postfix": "",
     "delete_cmd_prefix": "del ",
     "library": "var_list.py",
     "varRefreshCmd": "print(var_dic_list())"
    },
    "r": {
     "delete_cmd_postfix": ") ",
     "delete_cmd_prefix": "rm(",
     "library": "var_list.r",
     "varRefreshCmd": "cat(var_dic_list()) "
    }
   },
   "types_to_exclude": [
    "module",
    "function",
    "builtin_function_or_method",
    "instance",
    "_Feature"
   ],
   "window_display": false
  }
 },
 "nbformat": 4,
 "nbformat_minor": 5
}
